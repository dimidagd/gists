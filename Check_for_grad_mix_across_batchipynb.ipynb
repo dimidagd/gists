{
  "nbformat": 4,
  "nbformat_minor": 0,
  "metadata": {
    "colab": {
      "provenance": [],
      "authorship_tag": "ABX9TyM3a7Pgy68+4ANCrvEfovOv",
      "include_colab_link": true
    },
    "kernelspec": {
      "name": "python3",
      "display_name": "Python 3"
    },
    "language_info": {
      "name": "python"
    }
  },
  "cells": [
    {
      "cell_type": "markdown",
      "metadata": {
        "id": "view-in-github",
        "colab_type": "text"
      },
      "source": [
        "<a href=\"https://colab.research.google.com/github/dimidagd/gists/blob/main/Check_for_grad_mix_across_batchipynb.ipynb\" target=\"_parent\"><img src=\"https://colab.research.google.com/assets/colab-badge.svg\" alt=\"Open In Colab\"/></a>"
      ]
    },
    {
      "cell_type": "code",
      "execution_count": 7,
      "metadata": {
        "id": "eSHX1tDjvekn"
      },
      "outputs": [],
      "source": [
        "import torch\n",
        "import torch.nn as nn\n",
        "import torch.nn.functional as F\n",
        "\n",
        "# Simple model for demonstration\n",
        "class SimpleModel(nn.Module):\n",
        "    def __init__(self):\n",
        "        super(SimpleModel, self).__init__()\n",
        "        self.conv = nn.Conv2d(1, 10, kernel_size=5)\n",
        "        self.fc = nn.Linear(10 , 1)\n",
        "        self.bn = nn.InstanceNorm2d(10)\n",
        "        self.ln = nn.LayerNorm(10)\n",
        "        self.freeze_layer(self.fc)\n",
        "    def forward(self, x):\n",
        "        x = F.relu(self.conv(x))\n",
        "\n",
        "        x = self.bn(x)\n",
        "        x = x.view(x.size(0),-1,x.size(1))\n",
        "        x = self.ln(x)\n",
        "\n",
        "        x = self.fc(x)\n",
        "        return x\n",
        "    @staticmethod\n",
        "    def freeze_layer(layer):\n",
        "        for param in layer.parameters():\n",
        "          param.requires_grad = False\n"
      ]
    },
    {
      "cell_type": "code",
      "source": [
        "model = SimpleModel()\n",
        "model.zero_grad()\n",
        "import torch.optim as optim\n",
        "optimizer = optim.SGD(model.parameters(), lr=0.01)"
      ],
      "metadata": {
        "id": "hy9EuMFEvhin"
      },
      "execution_count": 8,
      "outputs": []
    },
    {
      "cell_type": "code",
      "source": [
        "model.fc.weight"
      ],
      "metadata": {
        "colab": {
          "base_uri": "https://localhost:8080/"
        },
        "id": "gt5cclmB3Hyk",
        "outputId": "a44db8c3-f4cc-4058-92d5-f9f3075f9366"
      },
      "execution_count": 9,
      "outputs": [
        {
          "output_type": "execute_result",
          "data": {
            "text/plain": [
              "Parameter containing:\n",
              "tensor([[-0.1893, -0.1726, -0.1329,  0.2299, -0.1490, -0.2646,  0.2749,  0.0196,\n",
              "          0.0782, -0.1371]])"
            ]
          },
          "metadata": {},
          "execution_count": 9
        }
      ]
    },
    {
      "cell_type": "code",
      "source": [
        "n_batch = 5\n",
        "for i in range(n_batch):\n",
        "  X = torch.rand(n_batch,1,50,50,requires_grad=True)\n",
        "  loss = model(X)\n",
        "  sample_loss = loss[i]\n",
        "  sample_loss.sum().backward()\n",
        "  with torch.no_grad():\n",
        "    grads = [sample_grad.abs().sum().item() for sample_grad in X.grad]\n",
        "    print(\"gradients are\",grads)\n",
        "    grads.pop(i)\n",
        "    #assert not any(grads)\n",
        "    old_weights = model.fc.weight.clone().detach()\n",
        "    optimizer.step()\n",
        "    new_weights = model.fc.weight.clone().detach()\n",
        "    print(\"Difference in layer weights\",(old_weights-new_weights).sum())\n",
        "    model.zero_grad()"
      ],
      "metadata": {
        "colab": {
          "base_uri": "https://localhost:8080/"
        },
        "id": "lObp0A5rw5g_",
        "outputId": "1a606d60-f6b3-4434-dcba-567f1df6ab77"
      },
      "execution_count": 13,
      "outputs": [
        {
          "output_type": "stream",
          "name": "stdout",
          "text": [
            "gradinets are [14076.8310546875, 0.0, 0.0, 0.0, 0.0]\n",
            "Difference in layer weights tensor(0.)\n",
            "gradinets are [0.0, 19610.6640625, 0.0, 0.0, 0.0]\n",
            "Difference in layer weights tensor(0.)\n",
            "gradinets are [0.0, 0.0, 23202.52734375, 0.0, 0.0]\n",
            "Difference in layer weights tensor(0.)\n",
            "gradinets are [0.0, 0.0, 0.0, 22779.171875, 0.0]\n",
            "Difference in layer weights tensor(0.)\n",
            "gradinets are [0.0, 0.0, 0.0, 0.0, 19541.716796875]\n",
            "Difference in layer weights tensor(0.)\n"
          ]
        }
      ]
    },
    {
      "cell_type": "code",
      "source": [],
      "metadata": {
        "id": "NF7iQi9vwlUG"
      },
      "execution_count": 10,
      "outputs": []
    }
  ]
}