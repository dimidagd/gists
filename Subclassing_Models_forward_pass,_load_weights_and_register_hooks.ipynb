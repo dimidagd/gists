{
  "nbformat": 4,
  "nbformat_minor": 0,
  "metadata": {
    "colab": {
      "provenance": [],
      "authorship_tag": "ABX9TyPlG1jbXulHt3+LuAvwMFhI",
      "include_colab_link": true
    },
    "kernelspec": {
      "name": "python3",
      "display_name": "Python 3"
    },
    "language_info": {
      "name": "python"
    }
  },
  "cells": [
    {
      "cell_type": "markdown",
      "metadata": {
        "id": "view-in-github",
        "colab_type": "text"
      },
      "source": [
        "<a href=\"https://colab.research.google.com/github/dimidagd/gists/blob/main/Subclassing_Models_forward_pass%2C_load_weights_and_register_hooks.ipynb\" target=\"_parent\"><img src=\"https://colab.research.google.com/assets/colab-badge.svg\" alt=\"Open In Colab\"/></a>"
      ]
    },
    {
      "cell_type": "code",
      "source": [
        "import torch\n",
        "model = torch.hub.load('pytorch/vision:v0.9.0', 'resnet18', pretrained=True)"
      ],
      "metadata": {
        "colab": {
          "base_uri": "https://localhost:8080/"
        },
        "id": "B1AlBO8tjpBK",
        "outputId": "a3b26dbb-2ef2-4ac1-e1dd-be473d12ef01"
      },
      "execution_count": 3,
      "outputs": [
        {
          "output_type": "stream",
          "name": "stderr",
          "text": [
            "Using cache found in /root/.cache/torch/hub/pytorch_vision_v0.9.0\n"
          ]
        }
      ]
    },
    {
      "cell_type": "code",
      "source": [
        "RESNET_PTH_FILE = \"/root/.cache/torch/hub/checkpoints/resnet18-5c106cde.pth\""
      ],
      "metadata": {
        "id": "Fs3wehCSj5CO"
      },
      "execution_count": 8,
      "outputs": []
    },
    {
      "cell_type": "code",
      "source": [
        "!cat /root/.cache/torch/hub/pytorch_vision_v0.9.0/torchvision/models/resnet.py | grep -A 5 \"class ResNet\"\n",
        "!echo -e \".\\n.\\n.\\n.\\n.\\n.\\n.\\n\"\n",
        "!cat /root/.cache/torch/hub/pytorch_vision_v0.9.0/torchvision/models/resnet.py | grep -A 50 \"class ResNet\" | grep -A 2 -B 2 \"self.conv1\"\n",
        "!echo -e \".\\n.\\n.\\n.\\n.\\n.\\n.\\n\""
      ],
      "metadata": {
        "colab": {
          "base_uri": "https://localhost:8080/"
        },
        "id": "wIbayxrNslwN",
        "outputId": "db48137c-2def-4092-bf8a-2ed4aa772401"
      },
      "execution_count": 122,
      "outputs": [
        {
          "output_type": "stream",
          "name": "stdout",
          "text": [
            "class ResNet(nn.Module):\n",
            "\n",
            "    def __init__(\n",
            "        self,\n",
            "        block: Type[Union[BasicBlock, Bottleneck]],\n",
            "        layers: List[int],\n",
            ".\n",
            ".\n",
            ".\n",
            ".\n",
            ".\n",
            ".\n",
            ".\n",
            "\n",
            "        self.groups = groups\n",
            "        self.base_width = width_per_group\n",
            "        self.conv1 = nn.Conv2d(3, self.inplanes, kernel_size=7, stride=2, padding=3,\n",
            "                               bias=False)\n",
            "        self.bn1 = norm_layer(self.inplanes)\n",
            ".\n",
            ".\n",
            ".\n",
            ".\n",
            ".\n",
            ".\n",
            ".\n",
            "\n"
          ]
        }
      ]
    },
    {
      "cell_type": "code",
      "source": [
        "class Hook:\n",
        "    def __init__(self):\n",
        "        self._input = None\n",
        "        self._output = None\n",
        "\n",
        "    def __call__(self, module, input, output):\n",
        "        print(len(input))\n",
        "        self._input = input[0].detach()\n",
        "        self._output = output[0].detach()\n",
        "\n",
        "    def reset(self):\n",
        "        self._input, self._output = None, None\n",
        "\n",
        "    @property\n",
        "    def input(self):\n",
        "        return self._input\n",
        "\n",
        "    @property\n",
        "    def output(self):\n",
        "        return self._output\n",
        "\n",
        "# Define a hook function to capture the output\n",
        "class OutputHook:\n",
        "    def __init__(self,module):\n",
        "        self.module = module\n",
        "        self._state = Hook()\n",
        "        self.hook = NotImplemented\n",
        "    def __enter__(self):\n",
        "        self.hook = self.module.register_forward_hook(self._state)\n",
        "        return self\n",
        "    def __exit__(self, exc_type, exc_value, traceback):\n",
        "        print(f\"Releasing\")\n",
        "        self._state.reset()\n",
        "        self.hook.remove()\n",
        "        # Perform cleanup or resource release"
      ],
      "metadata": {
        "id": "TDeavocBkwiV"
      },
      "execution_count": 126,
      "outputs": []
    },
    {
      "cell_type": "code",
      "source": [
        "models.ResNet(block=models.resnet.BasicBlock, layers=[2, 2, 2, 2], num_classes=1000).conv1"
      ],
      "metadata": {
        "colab": {
          "base_uri": "https://localhost:8080/"
        },
        "id": "eDecaiQWoF0f",
        "outputId": "e436e6fe-dfe9-4125-8887-614f284162eb"
      },
      "execution_count": 127,
      "outputs": [
        {
          "output_type": "execute_result",
          "data": {
            "text/plain": [
              "Conv2d(3, 64, kernel_size=(7, 7), stride=(2, 2), padding=(3, 3), bias=False)"
            ]
          },
          "metadata": {},
          "execution_count": 127
        }
      ]
    },
    {
      "cell_type": "code",
      "execution_count": 128,
      "metadata": {
        "colab": {
          "base_uri": "https://localhost:8080/"
        },
        "id": "osFU6hWGjk2p",
        "outputId": "10a28bef-3db3-434c-add9-795dae54f227"
      },
      "outputs": [
        {
          "output_type": "execute_result",
          "data": {
            "text/plain": [
              "<All keys matched successfully>"
            ]
          },
          "metadata": {},
          "execution_count": 128
        }
      ],
      "source": [
        "import torch\n",
        "import torch.nn as nn\n",
        "import torchvision.models as models\n",
        "\n",
        "# Subclass the pretrained model directly\n",
        "class MyModel(models.ResNet):\n",
        "    def __init__(self):\n",
        "        # Call the constructor of the parent class (ResNet)\n",
        "        super(MyModel, self).__init__(block=models.resnet.BasicBlock, layers=[2, 2, 2, 2], num_classes=1000)\n",
        "        # You can customize the initialization here if needed\n",
        "\n",
        "    def custom_forward(self, x):\n",
        "        # Add your custom method logic here\n",
        "        module_to_be_hooked = getattr(self, \"conv1\")\n",
        "        with OutputHook(module_to_be_hooked) as hook: # self.conv1 created by models.ResNet __init__\n",
        "          final_output = self.forward(x)\n",
        "          module_input = hook._state.input\n",
        "        return final_output, module_input\n",
        "\n",
        "# Create an instance of your subclassed model\n",
        "my_model = MyModel()\n",
        "\n",
        "# Download the pretrained weights\n",
        "pretrained_weights = torch.load(RESNET_PTH_FILE)\n",
        "\n",
        "# Load the pretrained weights into your model\n",
        "my_model.load_state_dict(pretrained_weights, strict=False)\n",
        "\n",
        "# Now your model is initialized with the pretrained weights"
      ]
    },
    {
      "cell_type": "code",
      "source": [
        "model_output, hooked_module_output = my_model.custom_forward(torch.rand(13,3,100,100))\n",
        "\n",
        "print(\"model output\",model_output.shape)\n",
        "print(\"hooked module output\",hooked_module_output.shape)"
      ],
      "metadata": {
        "colab": {
          "base_uri": "https://localhost:8080/"
        },
        "id": "qV9_dQ5UkREj",
        "outputId": "27746fd8-e614-4216-fef3-d9e3e3fd9787"
      },
      "execution_count": 130,
      "outputs": [
        {
          "output_type": "stream",
          "name": "stdout",
          "text": [
            "1\n",
            "Releasing\n",
            "model output torch.Size([13, 1000])\n",
            "hooked module output torch.Size([13, 3, 100, 100])\n"
          ]
        }
      ]
    },
    {
      "cell_type": "code",
      "source": [],
      "metadata": {
        "id": "dis0Gvc-p-Zq"
      },
      "execution_count": null,
      "outputs": []
    }
  ]
}