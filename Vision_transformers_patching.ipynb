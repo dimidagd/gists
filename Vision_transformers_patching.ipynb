{
  "cells": [
    {
      "cell_type": "markdown",
      "metadata": {
        "id": "view-in-github",
        "colab_type": "text"
      },
      "source": [
        "<a href=\"https://colab.research.google.com/github/dimidagd/gists/blob/main/Vision_transformers_patching.ipynb\" target=\"_parent\"><img src=\"https://colab.research.google.com/assets/colab-badge.svg\" alt=\"Open In Colab\"/></a>"
      ]
    },
    {
      "cell_type": "code",
      "source": [
        "import torch.nn as nn\n",
        "import torch\n",
        "from itertools import repeat\n",
        "\n",
        "from PIL import Image\n",
        "from torchvision import transforms\n",
        "import os\n",
        "from tqdm.notebook import tqdm"
      ],
      "metadata": {
        "id": "n5BXCH3Bxxcw"
      },
      "execution_count": 25,
      "outputs": []
    },
    {
      "cell_type": "code",
      "execution_count": 26,
      "metadata": {
        "colab": {
          "base_uri": "https://localhost:8080/"
        },
        "id": "rGlnSVfqWKFF",
        "outputId": "26dea4c2-aa7b-453d-f355-96bc8ebed9b1"
      },
      "outputs": [
        {
          "output_type": "stream",
          "name": "stdout",
          "text": [
            "fatal: destination path 'IMagenet' already exists and is not an empty directory.\n",
            "n01443537  n02074367  n02321529  n02808440  n03085013  n03662601  n04023962  n04399382\tn07720875\n",
            "n01629819  n02085620  n02364673  n02814533  n03089624  n03670208  n04067472  n04417672\tn07734744\n",
            "n01641577  n02094433  n02395406  n02814860  n03100240  n03706229  n04070727  n04456115\tn07747607\n",
            "n01644900  n02099601  n02403003  n02815834  n03126707  n03733131  n04074963  n04465501\tn07749582\n",
            "n01698640  n02099712  n02410509  n02823428  n03160309  n03763968  n04099969  n04486054\tn07753592\n",
            "n01742172  n02106662  n02415577  n02837789  n03179701  n03770439  n04118538  n04487081\tn07768694\n",
            "n01768244  n02113799  n02423022  n02841315  n03201208  n03796401  n04133789  n04501370\tn07871810\n",
            "n01770393  n02123045  n02437312  n02843684  n03250847  n03804744  n04146614  n04507155\tn07873807\n",
            "n01774384  n02123394  n02480495  n02883205  n03255030  n03814639  n04149813  n04532106\tn07875152\n",
            "n01774750  n02124075  n02481823  n02892201  n03355925  n03837869  n04179913  n04532670\tn07920052\n",
            "n01784675  n02125311  n02486410  n02906734  n03388043  n03838899  n04251144  n04540053\tn09193705\n",
            "n01855672  n02129165  n02504458  n02909870  n03393912  n03854065  n04254777  n04560804\tn09246464\n",
            "n01882714  n02132136  n02509815  n02917067  n03400231  n03891332  n04259630  n04562935\tn09256479\n",
            "n01910747  n02165456  n02666196  n02927161  n03404251  n03902125  n04265275  n04596742\tn09332890\n",
            "n01917289  n02190166  n02669723  n02948072  n03424325  n03930313  n04275548  n04597913\tn09428293\n",
            "n01944390  n02206856  n02699494  n02950826  n03444034  n03937543  n04285008  n06596364\tn12267677\n",
            "n01945685  n02226429  n02730930  n02963159  n03447447  n03970156  n04311004  n07579787\n",
            "n01950731  n02231487  n02769748  n02977058  n03544143  n03976657  n04328186  n07583066\n",
            "n01983481  n02233338  n02788148  n02988304  n03584254  n03977966  n04356056  n07614500\n",
            "n01984695  n02236044  n02791270  n02999410  n03599486  n03980874  n04366367  n07615774\n",
            "n02002724  n02268443  n02793495  n03014705  n03617480  n03983396  n04371430  n07695742\n",
            "n02056570  n02279972  n02795169  n03026506  n03637318  n03992509  n04376876  n07711569\n",
            "n02058221  n02281406  n02802426  n03042490  n03649909  n04008634  n04398044  n07715103\n",
            "500\n"
          ]
        }
      ],
      "source": [
        "! git clone https://github.com/seshuad/IMagenet\n",
        "! ls 'IMagenet/tiny-imagenet-200/train'\n",
        "! ls 'IMagenet/tiny-imagenet-200/train/n01443537/images' | wc -l"
      ]
    },
    {
      "cell_type": "code",
      "source": [
        "# Download a 5-second video sample using wget\n",
        "!wget https://sample-videos.com/video321/mp4/480/big_buck_bunny_480p_10mb.mp4 -O sample_video.mp4"
      ],
      "metadata": {
        "colab": {
          "base_uri": "https://localhost:8080/"
        },
        "id": "ypim5K-ndjx0",
        "outputId": "9da7c5d8-f080-4349-9b8f-7a204283a62c"
      },
      "execution_count": 27,
      "outputs": [
        {
          "output_type": "stream",
          "name": "stdout",
          "text": [
            "--2024-05-28 08:31:57--  https://sample-videos.com/video321/mp4/480/big_buck_bunny_480p_10mb.mp4\n",
            "Resolving sample-videos.com (sample-videos.com)... 103.145.51.95\n",
            "Connecting to sample-videos.com (sample-videos.com)|103.145.51.95|:443... connected.\n",
            "HTTP request sent, awaiting response... 200 OK\n",
            "Length: 10530208 (10M) [video/mp4]\n",
            "Saving to: ‘sample_video.mp4’\n",
            "\n",
            "sample_video.mp4    100%[===================>]  10.04M  4.12MB/s    in 2.4s    \n",
            "\n",
            "2024-05-28 08:32:01 (4.12 MB/s) - ‘sample_video.mp4’ saved [10530208/10530208]\n",
            "\n"
          ]
        }
      ]
    },
    {
      "cell_type": "code",
      "execution_count": 28,
      "metadata": {
        "id": "xYcGO7lTJ9C8"
      },
      "outputs": [],
      "source": [
        "# Taken from https://github.com/facebookresearch/dinov2/blob/e1277af2ba9496fbadf7aec6eba56e8d882d1e35/dinov2/eval/segmentation_m2f/models/backbones/vit.py#L112\n",
        "\n",
        "\n",
        "def to_2tuple(x):\n",
        "    return tuple(repeat(x, 2))\n",
        "\n",
        "\n",
        "class PatchEmbed(nn.Module):\n",
        "    \"\"\"2D Image to Patch Embedding.\"\"\"\n",
        "\n",
        "    def __init__(\n",
        "        self, img_size=224, patch_size=16, in_chans=3, embed_dim=768, norm_layer=None, flatten=True, bias=True\n",
        "    ):\n",
        "        super().__init__()\n",
        "        img_size = to_2tuple(img_size)\n",
        "        patch_size = to_2tuple(patch_size)\n",
        "        self.img_size = img_size\n",
        "        self.patch_size = patch_size\n",
        "        self.grid_size = (img_size[0] // patch_size[0], img_size[1] // patch_size[1])\n",
        "        self.num_patches = self.grid_size[0] * self.grid_size[1]\n",
        "        self.flatten = flatten\n",
        "\n",
        "        self.proj = nn.Conv2d(in_chans, embed_dim, kernel_size=patch_size, stride=patch_size, bias=bias)\n",
        "        self.norm = norm_layer(embed_dim) if norm_layer else nn.Identity()\n",
        "\n",
        "    def forward(self, x):\n",
        "        x = self.proj(x)\n",
        "        _, _, H, W = x.shape\n",
        "        if self.flatten:\n",
        "            x = x.flatten(2).transpose(1, 2)  # BCHW -> BNC\n",
        "        x = self.norm(x)\n",
        "        return x, H, W\n"
      ]
    },
    {
      "cell_type": "code",
      "execution_count": 29,
      "metadata": {
        "colab": {
          "base_uri": "https://localhost:8080/"
        },
        "id": "NqH_888kKJHf",
        "outputId": "59dbd08a-2b37-458d-d3e4-8594494d8998"
      },
      "outputs": [
        {
          "output_type": "stream",
          "name": "stdout",
          "text": [
            "torch.Size([1, 196, 768]) 14 14\n",
            "B 14*14 embed_dim\n"
          ]
        }
      ],
      "source": [
        "X = torch.rand(1,3,224,224)\n",
        "Z, H ,W = PatchEmbed()(X)\n",
        "print(Z.shape,H,W)\n",
        "print(\"B 14*14 embed_dim\")"
      ]
    },
    {
      "cell_type": "code",
      "execution_count": 30,
      "metadata": {
        "colab": {
          "base_uri": "https://localhost:8080/"
        },
        "id": "EQe-mHB1KSPu",
        "outputId": "d411f0a5-1d2c-4b39-945a-40d703c25c97"
      },
      "outputs": [
        {
          "output_type": "stream",
          "name": "stderr",
          "text": [
            "Using cache found in /root/.cache/torch/hub/facebookresearch_dinov2_main\n"
          ]
        }
      ],
      "source": [
        "if torch.cuda.is_available():\n",
        "  device = \"cuda\"\n",
        "else:\n",
        "  device = \"cpu\"\n",
        "dinov2_vitl14 = torch.hub.load('facebookresearch/dinov2', 'dinov2_vitl14_reg')\n",
        "dinov2_vitl14 = dinov2_vitl14.to(device)\n",
        "#dinov2_vitl14_reg = torch.hub.load('facebookresearch/dinov2', 'dinov2_vitl14_reg')\n"
      ]
    },
    {
      "cell_type": "code",
      "execution_count": 31,
      "metadata": {
        "id": "NFT4IcIPPJhl"
      },
      "outputs": [],
      "source": [
        "\n",
        "patch_size = dinov2_vitl14.patch_size # patchsize=14\n",
        "n_patches = 10\n",
        "\n"
      ]
    },
    {
      "cell_type": "code",
      "execution_count": 32,
      "metadata": {
        "colab": {
          "base_uri": "https://localhost:8080/",
          "height": 67,
          "referenced_widgets": [
            "95ab61c481994221bab93f8ef7e71bce",
            "24a6c0e3e966435bb15bf58e962391c4",
            "2ee5e2da955d472a95177dca9ca7ede0",
            "2d6e77cc749b421399c8f44d3ab7cdef",
            "1e1903a9583d4a01b8045709edd5e48e",
            "394c10e0b1034094bdb56c929c1763d6",
            "8ac484b9992c45c6bdbd11825cbacb79",
            "5995e13d620f40d28ca08529c3ff8d18",
            "2d7a256e30e44b5593382888fb808bd7",
            "12d27e2a6040458ebe98ff99de9a84c0",
            "7b6e83cad101470fac8168df5b754a2a"
          ]
        },
        "id": "ssi2Ty_lL9Yu",
        "outputId": "f78ad4c8-ca8a-4cf9-fdbd-0039efd52f38"
      },
      "outputs": [
        {
          "output_type": "display_data",
          "data": {
            "text/plain": [
              "  0%|          | 0/4 [00:00<?, ?it/s]"
            ],
            "application/vnd.jupyter.widget-view+json": {
              "version_major": 2,
              "version_minor": 0,
              "model_id": "95ab61c481994221bab93f8ef7e71bce"
            }
          },
          "metadata": {}
        },
        {
          "output_type": "execute_result",
          "data": {
            "text/plain": [
              "torch.Size([4, 100, 1024])"
            ]
          },
          "metadata": {},
          "execution_count": 32
        }
      ],
      "source": [
        "\n",
        "n_patches_h, n_patches_w =  int(n_patches), int(n_patches)\n",
        "patch_h  = patch_size*n_patches_h//patch_size\n",
        "patch_w  = patch_h\n",
        "\n",
        "transform = transforms.Compose([\n",
        "                                transforms.Resize(2*patch_size*n_patches),\n",
        "                                transforms.CenterCrop(patch_size*n_patches), #should be multiple of model patch_size\n",
        "                                transforms.ToTensor(),\n",
        "                                ])\n",
        "\n",
        "#520//14\n",
        "\n",
        "# feat_dim = 384 # vits14\n",
        "# feat_dim = 768 # vitb14\n",
        "feat_dim = 1024 # vitl14\n",
        "# feat_dim = 1536 # vitg14\n",
        "\n",
        "class_id = \"n01629819\"\n",
        "folder_path = f'IMagenet/tiny-imagenet-200/train/{class_id}/images'\n",
        "total_features  = []\n",
        "n_frames = 4\n",
        "\n",
        "with torch.no_grad():\n",
        "  for img_path in tqdm(os.listdir(folder_path)[0:n_frames]):\n",
        "    img_path = os.path.join(folder_path, img_path)\n",
        "    img = Image.open(img_path).convert('RGB')\n",
        "    img_t = transform(img).to(device)\n",
        "\n",
        "    features_dict = dinov2_vitl14.forward_features(img_t.unsqueeze(0))\n",
        "    features = features_dict['x_norm_patchtokens']\n",
        "    total_features.append(features)\n",
        "\n",
        "total_features = torch.cat(total_features, dim=0)\n",
        "total_features.shape"
      ]
    },
    {
      "cell_type": "code",
      "source": [
        "import cv2\n",
        "\n",
        "patch_h  = patch_size*n_patches_h//patch_size\n",
        "patch_w  = patch_size*n_patches_w//patch_size\n",
        "video_h, video_w = 480,int(640)\n",
        "n_patches_h, n_patches_w =  int(n_patches*video_h/video_w), int(n_patches)\n",
        "\n",
        "transform = transforms.Compose([\n",
        "                                transforms.Resize((int(patch_size*n_patches_h*1.5),int(patch_size*n_patches_w*1.5))),\n",
        "                                transforms.CenterCrop((patch_size*n_patches_h,patch_size*n_patches_w)), #should be multiple of model patch_size\n",
        "                                transforms.ToTensor(),\n",
        "                                ])\n",
        "n_frames = 40\n",
        "\n",
        "\n",
        "\n",
        "\n",
        "# Define a function to preprocess frames\n",
        "def preprocess_frame(frame):\n",
        "    # Resize the frame to match DINOv2 input size (224x224)\n",
        "    resized_frame = cv2.resize(frame, (224, 224))\n",
        "    # Convert the frame to RGB\n",
        "    rgb_frame = cv2.cvtColor(resized_frame, cv2.COLOR_BGR2RGB)\n",
        "\n",
        "    rgb_frame = Image.fromarray(rgb_frame)\n",
        "    normalized_frame = transform(rgb_frame)\n",
        "    # Add batch dimension\n",
        "    normalized_frame = normalized_frame.unsqueeze(0)\n",
        "    return normalized_frame\n",
        "\n",
        "# Load the video\n",
        "video_path = 'sample_video.mp4'\n",
        "cap = cv2.VideoCapture(video_path)\n",
        "\n",
        "# Process each frame of the video\n",
        "frame_count = 0\n",
        "total_features  = []\n",
        "input_frames = []\n",
        "with tqdm(total=n_frames) as pbar:\n",
        "  while(cap.isOpened()):\n",
        "      ret, frame = cap.read()\n",
        "      if ret:\n",
        "          img_t = preprocess_frame(frame)\n",
        "          img_t = img_t.to(device)\n",
        "          with torch.no_grad():\n",
        "            features_dict = dinov2_vitl14.forward_features(img_t)\n",
        "          features = features_dict['x_norm_patchtokens'].detach().cpu()\n",
        "          total_features.append(features)\n",
        "          input_frames.append(img_t.detach().cpu())\n",
        "          frame_count += 1\n",
        "          pbar.update(1)\n",
        "          if len(total_features)==n_frames:\n",
        "            break\n",
        "      else:\n",
        "          break\n",
        "\n",
        "total_features = torch.cat(total_features, dim=0)\n",
        "input_features = torch.cat(input_frames, dim=0)\n",
        "total_features.shape\n",
        "# Convertensort the tensor to a NumPy array\n",
        "img = img_t[0].permute(1, 2, 0).cpu().numpy()\n",
        "from matplotlib import pyplot as plt\n",
        "# Plot the image\n",
        "print(img.shape)\n",
        "plt.imshow(img)\n",
        "plt.axis('off')  # Turn off axis\n",
        "plt.show()"
      ],
      "metadata": {
        "colab": {
          "base_uri": "https://localhost:8080/",
          "height": 49,
          "referenced_widgets": [
            "28121969a7bc402b910504e0ff24de14",
            "c4ba818b66b543aabf77f16f989e821c",
            "b9fd975ba98848f9872ea9e05d12a7b2",
            "e79c3830a84a4acf84ae45cc85f0a7fb",
            "897f60f424ca431fb482572bd4e080ba",
            "f2460014402f481e851dc3a68f1ffea8",
            "40a7a20068534019b8db17867ff27a2b",
            "83ff45d9264b4d30917857b7a5f8ace5",
            "6ab1b544f8ba4b3586a3963cb1d3a9c7",
            "481c9fe2751448ad8e8f365c1024ca95",
            "990f584104414574939b71b1668ef2f6"
          ]
        },
        "id": "Cux0U6dYchjn",
        "outputId": "ac99e4b0-42e2-4fde-e2bf-1e2b7ed28658"
      },
      "execution_count": null,
      "outputs": [
        {
          "output_type": "display_data",
          "data": {
            "text/plain": [
              "  0%|          | 0/40 [00:00<?, ?it/s]"
            ],
            "application/vnd.jupyter.widget-view+json": {
              "version_major": 2,
              "version_minor": 0,
              "model_id": "28121969a7bc402b910504e0ff24de14"
            }
          },
          "metadata": {}
        }
      ]
    },
    {
      "cell_type": "code",
      "execution_count": null,
      "metadata": {
        "id": "nHC4m91XPcTr"
      },
      "outputs": [],
      "source": [
        "from sklearn.decomposition import PCA\n",
        "import matplotlib.pyplot as plt\n",
        "\n",
        "# First PCA to Seperate Background\n",
        "# sklearn expects 2d array for traning\n",
        "total_features = total_features.reshape(n_frames * patch_h * patch_w, feat_dim).detach().cpu() #4(*H*w, 1024)\n",
        "\n",
        "pca = PCA(n_components=3)\n",
        "pca.fit(total_features)\n",
        "pca_features = pca.transform(total_features)\n",
        "\n",
        "# visualize PCA components for finding a proper threshold\n",
        "# 3 histograms for 3 components\n",
        "plt.subplot(2, 2, 1)\n",
        "plt.hist(pca_features[:, 0])\n",
        "plt.subplot(2, 2, 2)\n",
        "plt.hist(pca_features[:, 1])\n",
        "plt.subplot(2, 2, 3)\n",
        "plt.hist(pca_features[:, 2])\n",
        "plt.show()\n",
        "plt.close()"
      ]
    },
    {
      "cell_type": "code",
      "execution_count": null,
      "metadata": {
        "id": "LTEcZ9w6PyvF"
      },
      "outputs": [],
      "source": [
        "# min_max scale\n",
        "pca_features[:, 0] = (pca_features[:, 0] - pca_features[:, 0].min()) / \\\n",
        "                     (pca_features[:, 0].max() - pca_features[:, 0].min())\n",
        "# pca_features = sklearn.processing.minmax_scale(pca_features)\n",
        "\n",
        "for i in range(4):\n",
        "    plt.subplot(2, 2, i+1)\n",
        "    plt.imshow(pca_features[i*patch_h*patch_w : (i+1)*patch_h*patch_w, 0].reshape(patch_h, patch_w))\n",
        "\n",
        "plt.show()\n",
        "\n",
        "import numpy as np\n",
        "threshold = np.median(pca_features[:, 0])\n",
        "\n",
        "# segment/seperate the backgound and foreground using the first component\n",
        "pca_features_bg = pca_features[:, 0] < 1.5*threshold # from first histogram\n",
        "pca_features_fg = ~pca_features_bg\n",
        "\n",
        "# plot the pca_features_bg\n",
        "for i in range(4):\n",
        "    plt.subplot(2, 2, i+1)\n",
        "    plt.imshow(pca_features_bg[i * patch_h * patch_w: (i+1) * patch_h * patch_w].reshape(patch_h, patch_w))\n",
        "plt.show()\n"
      ]
    },
    {
      "cell_type": "code",
      "execution_count": null,
      "metadata": {
        "id": "PsSXwOlnT9j0"
      },
      "outputs": [],
      "source": [
        "# 2nd PCA for only foreground patches\n",
        "pca.fit(total_features[pca_features_fg])\n",
        "pca_features_left = pca.transform(total_features[pca_features_fg])\n",
        "\n",
        "for i in range(3):\n",
        "    # min_max scaling\n",
        "    pca_features_left[:, i] = (pca_features_left[:, i] - pca_features_left[:, i].min()) / (pca_features_left[:, i].max() - pca_features_left[:, i].min())\n",
        "\n",
        "pca_features_rgb = pca_features.copy()\n",
        "# for black background\n",
        "pca_features_rgb[pca_features_bg] = 0\n",
        "# new scaled foreground features\n",
        "pca_features_rgb[pca_features_fg] = pca_features_left\n",
        "\n",
        "# reshaping to numpy image format\n",
        "pca_features_rgb = pca_features_rgb.reshape(n_frames, patch_h, patch_w, 3)\n",
        "for i in range(4):\n",
        "    plt.subplot(2, 2, i+1)\n",
        "    plt.imshow(pca_features_rgb[i])\n",
        "\n",
        "plt.show()\n"
      ]
    },
    {
      "cell_type": "code",
      "source": [
        "# Video pipeline"
      ],
      "metadata": {
        "id": "tsIYDup2w6GD"
      },
      "execution_count": null,
      "outputs": []
    },
    {
      "cell_type": "code",
      "source": [
        "# Define the transformation function to convert float tensor in [0, 1] to int8 tensor in [0, 255]\n",
        "def float_to_int8(image):\n",
        "    return (image * 255).permute(1, 2, 0).numpy().astype(np.uint8)\n",
        "\n",
        "# Assuming 'tensor' is your torch tensor with dtype=float64 and values in the range [0, 1]\n",
        "# Shape of the tensor: [batch_size, channels, height, width]\n",
        "tensor = torch.rand(1, 3, 224, 224)  # Example tensor\n",
        "\n",
        "# Define the transform\n",
        "transform_to_int8 = transforms.Compose([\n",
        "    transforms.ToPILImage(),\n",
        "    transforms.Resize((n_patches_h*10, n_patches_w*10),interpolation=transforms.InterpolationMode.NEAREST),\n",
        "    transforms.ToTensor(),\n",
        "    transforms.Lambda(lambda x: float_to_int8(x)),\n",
        "\n",
        "])\n"
      ],
      "metadata": {
        "id": "HsQLAknEmdMb"
      },
      "execution_count": null,
      "outputs": []
    },
    {
      "cell_type": "code",
      "source": [
        "dino_frames = np.array([transform_to_int8(frame) for frame in pca_features_rgb])\n",
        "input_frames = np.array([transform_to_int8(frame) for frame in input_features])\n",
        "\n",
        "frames =  np.concatenate((input_frames,dino_frames),axis=2)"
      ],
      "metadata": {
        "id": "4fOxpxF9nA3X"
      },
      "execution_count": null,
      "outputs": []
    },
    {
      "cell_type": "code",
      "source": [
        "import imageio\n",
        "# converted_images = np.clip(transform_to_int8(pca_features_rgb), 0, 255)\n",
        "imageio.mimsave('./animation.gif', frames, fps=10)\n"
      ],
      "metadata": {
        "id": "-vtn1TFxna2z"
      },
      "execution_count": null,
      "outputs": []
    },
    {
      "cell_type": "code",
      "source": [
        "from IPython.display import Image as ImageDisplay\n",
        "ImageDisplay('./animation.gif')"
      ],
      "metadata": {
        "id": "-zxGa-I6UyJv"
      },
      "execution_count": null,
      "outputs": []
    }
  ],
  "metadata": {
    "colab": {
      "provenance": [],
      "authorship_tag": "ABX9TyOQ3nUOIad1HGMz/vQzOAYz",
      "include_colab_link": true
    },
    "kernelspec": {
      "display_name": "Python 3",
      "name": "python3"
    },
    "language_info": {
      "name": "python"
    },
    "widgets": {
      "application/vnd.jupyter.widget-state+json": {
        "95ab61c481994221bab93f8ef7e71bce": {
          "model_module": "@jupyter-widgets/controls",
          "model_name": "HBoxModel",
          "model_module_version": "1.5.0",
          "state": {
            "_dom_classes": [],
            "_model_module": "@jupyter-widgets/controls",
            "_model_module_version": "1.5.0",
            "_model_name": "HBoxModel",
            "_view_count": null,
            "_view_module": "@jupyter-widgets/controls",
            "_view_module_version": "1.5.0",
            "_view_name": "HBoxView",
            "box_style": "",
            "children": [
              "IPY_MODEL_24a6c0e3e966435bb15bf58e962391c4",
              "IPY_MODEL_2ee5e2da955d472a95177dca9ca7ede0",
              "IPY_MODEL_2d6e77cc749b421399c8f44d3ab7cdef"
            ],
            "layout": "IPY_MODEL_1e1903a9583d4a01b8045709edd5e48e"
          }
        },
        "24a6c0e3e966435bb15bf58e962391c4": {
          "model_module": "@jupyter-widgets/controls",
          "model_name": "HTMLModel",
          "model_module_version": "1.5.0",
          "state": {
            "_dom_classes": [],
            "_model_module": "@jupyter-widgets/controls",
            "_model_module_version": "1.5.0",
            "_model_name": "HTMLModel",
            "_view_count": null,
            "_view_module": "@jupyter-widgets/controls",
            "_view_module_version": "1.5.0",
            "_view_name": "HTMLView",
            "description": "",
            "description_tooltip": null,
            "layout": "IPY_MODEL_394c10e0b1034094bdb56c929c1763d6",
            "placeholder": "​",
            "style": "IPY_MODEL_8ac484b9992c45c6bdbd11825cbacb79",
            "value": "100%"
          }
        },
        "2ee5e2da955d472a95177dca9ca7ede0": {
          "model_module": "@jupyter-widgets/controls",
          "model_name": "FloatProgressModel",
          "model_module_version": "1.5.0",
          "state": {
            "_dom_classes": [],
            "_model_module": "@jupyter-widgets/controls",
            "_model_module_version": "1.5.0",
            "_model_name": "FloatProgressModel",
            "_view_count": null,
            "_view_module": "@jupyter-widgets/controls",
            "_view_module_version": "1.5.0",
            "_view_name": "ProgressView",
            "bar_style": "success",
            "description": "",
            "description_tooltip": null,
            "layout": "IPY_MODEL_5995e13d620f40d28ca08529c3ff8d18",
            "max": 4,
            "min": 0,
            "orientation": "horizontal",
            "style": "IPY_MODEL_2d7a256e30e44b5593382888fb808bd7",
            "value": 4
          }
        },
        "2d6e77cc749b421399c8f44d3ab7cdef": {
          "model_module": "@jupyter-widgets/controls",
          "model_name": "HTMLModel",
          "model_module_version": "1.5.0",
          "state": {
            "_dom_classes": [],
            "_model_module": "@jupyter-widgets/controls",
            "_model_module_version": "1.5.0",
            "_model_name": "HTMLModel",
            "_view_count": null,
            "_view_module": "@jupyter-widgets/controls",
            "_view_module_version": "1.5.0",
            "_view_name": "HTMLView",
            "description": "",
            "description_tooltip": null,
            "layout": "IPY_MODEL_12d27e2a6040458ebe98ff99de9a84c0",
            "placeholder": "​",
            "style": "IPY_MODEL_7b6e83cad101470fac8168df5b754a2a",
            "value": " 4/4 [00:07&lt;00:00,  1.93s/it]"
          }
        },
        "1e1903a9583d4a01b8045709edd5e48e": {
          "model_module": "@jupyter-widgets/base",
          "model_name": "LayoutModel",
          "model_module_version": "1.2.0",
          "state": {
            "_model_module": "@jupyter-widgets/base",
            "_model_module_version": "1.2.0",
            "_model_name": "LayoutModel",
            "_view_count": null,
            "_view_module": "@jupyter-widgets/base",
            "_view_module_version": "1.2.0",
            "_view_name": "LayoutView",
            "align_content": null,
            "align_items": null,
            "align_self": null,
            "border": null,
            "bottom": null,
            "display": null,
            "flex": null,
            "flex_flow": null,
            "grid_area": null,
            "grid_auto_columns": null,
            "grid_auto_flow": null,
            "grid_auto_rows": null,
            "grid_column": null,
            "grid_gap": null,
            "grid_row": null,
            "grid_template_areas": null,
            "grid_template_columns": null,
            "grid_template_rows": null,
            "height": null,
            "justify_content": null,
            "justify_items": null,
            "left": null,
            "margin": null,
            "max_height": null,
            "max_width": null,
            "min_height": null,
            "min_width": null,
            "object_fit": null,
            "object_position": null,
            "order": null,
            "overflow": null,
            "overflow_x": null,
            "overflow_y": null,
            "padding": null,
            "right": null,
            "top": null,
            "visibility": null,
            "width": null
          }
        },
        "394c10e0b1034094bdb56c929c1763d6": {
          "model_module": "@jupyter-widgets/base",
          "model_name": "LayoutModel",
          "model_module_version": "1.2.0",
          "state": {
            "_model_module": "@jupyter-widgets/base",
            "_model_module_version": "1.2.0",
            "_model_name": "LayoutModel",
            "_view_count": null,
            "_view_module": "@jupyter-widgets/base",
            "_view_module_version": "1.2.0",
            "_view_name": "LayoutView",
            "align_content": null,
            "align_items": null,
            "align_self": null,
            "border": null,
            "bottom": null,
            "display": null,
            "flex": null,
            "flex_flow": null,
            "grid_area": null,
            "grid_auto_columns": null,
            "grid_auto_flow": null,
            "grid_auto_rows": null,
            "grid_column": null,
            "grid_gap": null,
            "grid_row": null,
            "grid_template_areas": null,
            "grid_template_columns": null,
            "grid_template_rows": null,
            "height": null,
            "justify_content": null,
            "justify_items": null,
            "left": null,
            "margin": null,
            "max_height": null,
            "max_width": null,
            "min_height": null,
            "min_width": null,
            "object_fit": null,
            "object_position": null,
            "order": null,
            "overflow": null,
            "overflow_x": null,
            "overflow_y": null,
            "padding": null,
            "right": null,
            "top": null,
            "visibility": null,
            "width": null
          }
        },
        "8ac484b9992c45c6bdbd11825cbacb79": {
          "model_module": "@jupyter-widgets/controls",
          "model_name": "DescriptionStyleModel",
          "model_module_version": "1.5.0",
          "state": {
            "_model_module": "@jupyter-widgets/controls",
            "_model_module_version": "1.5.0",
            "_model_name": "DescriptionStyleModel",
            "_view_count": null,
            "_view_module": "@jupyter-widgets/base",
            "_view_module_version": "1.2.0",
            "_view_name": "StyleView",
            "description_width": ""
          }
        },
        "5995e13d620f40d28ca08529c3ff8d18": {
          "model_module": "@jupyter-widgets/base",
          "model_name": "LayoutModel",
          "model_module_version": "1.2.0",
          "state": {
            "_model_module": "@jupyter-widgets/base",
            "_model_module_version": "1.2.0",
            "_model_name": "LayoutModel",
            "_view_count": null,
            "_view_module": "@jupyter-widgets/base",
            "_view_module_version": "1.2.0",
            "_view_name": "LayoutView",
            "align_content": null,
            "align_items": null,
            "align_self": null,
            "border": null,
            "bottom": null,
            "display": null,
            "flex": null,
            "flex_flow": null,
            "grid_area": null,
            "grid_auto_columns": null,
            "grid_auto_flow": null,
            "grid_auto_rows": null,
            "grid_column": null,
            "grid_gap": null,
            "grid_row": null,
            "grid_template_areas": null,
            "grid_template_columns": null,
            "grid_template_rows": null,
            "height": null,
            "justify_content": null,
            "justify_items": null,
            "left": null,
            "margin": null,
            "max_height": null,
            "max_width": null,
            "min_height": null,
            "min_width": null,
            "object_fit": null,
            "object_position": null,
            "order": null,
            "overflow": null,
            "overflow_x": null,
            "overflow_y": null,
            "padding": null,
            "right": null,
            "top": null,
            "visibility": null,
            "width": null
          }
        },
        "2d7a256e30e44b5593382888fb808bd7": {
          "model_module": "@jupyter-widgets/controls",
          "model_name": "ProgressStyleModel",
          "model_module_version": "1.5.0",
          "state": {
            "_model_module": "@jupyter-widgets/controls",
            "_model_module_version": "1.5.0",
            "_model_name": "ProgressStyleModel",
            "_view_count": null,
            "_view_module": "@jupyter-widgets/base",
            "_view_module_version": "1.2.0",
            "_view_name": "StyleView",
            "bar_color": null,
            "description_width": ""
          }
        },
        "12d27e2a6040458ebe98ff99de9a84c0": {
          "model_module": "@jupyter-widgets/base",
          "model_name": "LayoutModel",
          "model_module_version": "1.2.0",
          "state": {
            "_model_module": "@jupyter-widgets/base",
            "_model_module_version": "1.2.0",
            "_model_name": "LayoutModel",
            "_view_count": null,
            "_view_module": "@jupyter-widgets/base",
            "_view_module_version": "1.2.0",
            "_view_name": "LayoutView",
            "align_content": null,
            "align_items": null,
            "align_self": null,
            "border": null,
            "bottom": null,
            "display": null,
            "flex": null,
            "flex_flow": null,
            "grid_area": null,
            "grid_auto_columns": null,
            "grid_auto_flow": null,
            "grid_auto_rows": null,
            "grid_column": null,
            "grid_gap": null,
            "grid_row": null,
            "grid_template_areas": null,
            "grid_template_columns": null,
            "grid_template_rows": null,
            "height": null,
            "justify_content": null,
            "justify_items": null,
            "left": null,
            "margin": null,
            "max_height": null,
            "max_width": null,
            "min_height": null,
            "min_width": null,
            "object_fit": null,
            "object_position": null,
            "order": null,
            "overflow": null,
            "overflow_x": null,
            "overflow_y": null,
            "padding": null,
            "right": null,
            "top": null,
            "visibility": null,
            "width": null
          }
        },
        "7b6e83cad101470fac8168df5b754a2a": {
          "model_module": "@jupyter-widgets/controls",
          "model_name": "DescriptionStyleModel",
          "model_module_version": "1.5.0",
          "state": {
            "_model_module": "@jupyter-widgets/controls",
            "_model_module_version": "1.5.0",
            "_model_name": "DescriptionStyleModel",
            "_view_count": null,
            "_view_module": "@jupyter-widgets/base",
            "_view_module_version": "1.2.0",
            "_view_name": "StyleView",
            "description_width": ""
          }
        },
        "28121969a7bc402b910504e0ff24de14": {
          "model_module": "@jupyter-widgets/controls",
          "model_name": "HBoxModel",
          "model_module_version": "1.5.0",
          "state": {
            "_dom_classes": [],
            "_model_module": "@jupyter-widgets/controls",
            "_model_module_version": "1.5.0",
            "_model_name": "HBoxModel",
            "_view_count": null,
            "_view_module": "@jupyter-widgets/controls",
            "_view_module_version": "1.5.0",
            "_view_name": "HBoxView",
            "box_style": "",
            "children": [
              "IPY_MODEL_c4ba818b66b543aabf77f16f989e821c",
              "IPY_MODEL_b9fd975ba98848f9872ea9e05d12a7b2",
              "IPY_MODEL_e79c3830a84a4acf84ae45cc85f0a7fb"
            ],
            "layout": "IPY_MODEL_897f60f424ca431fb482572bd4e080ba"
          }
        },
        "c4ba818b66b543aabf77f16f989e821c": {
          "model_module": "@jupyter-widgets/controls",
          "model_name": "HTMLModel",
          "model_module_version": "1.5.0",
          "state": {
            "_dom_classes": [],
            "_model_module": "@jupyter-widgets/controls",
            "_model_module_version": "1.5.0",
            "_model_name": "HTMLModel",
            "_view_count": null,
            "_view_module": "@jupyter-widgets/controls",
            "_view_module_version": "1.5.0",
            "_view_name": "HTMLView",
            "description": "",
            "description_tooltip": null,
            "layout": "IPY_MODEL_f2460014402f481e851dc3a68f1ffea8",
            "placeholder": "​",
            "style": "IPY_MODEL_40a7a20068534019b8db17867ff27a2b",
            "value": "  8%"
          }
        },
        "b9fd975ba98848f9872ea9e05d12a7b2": {
          "model_module": "@jupyter-widgets/controls",
          "model_name": "FloatProgressModel",
          "model_module_version": "1.5.0",
          "state": {
            "_dom_classes": [],
            "_model_module": "@jupyter-widgets/controls",
            "_model_module_version": "1.5.0",
            "_model_name": "FloatProgressModel",
            "_view_count": null,
            "_view_module": "@jupyter-widgets/controls",
            "_view_module_version": "1.5.0",
            "_view_name": "ProgressView",
            "bar_style": "",
            "description": "",
            "description_tooltip": null,
            "layout": "IPY_MODEL_83ff45d9264b4d30917857b7a5f8ace5",
            "max": 40,
            "min": 0,
            "orientation": "horizontal",
            "style": "IPY_MODEL_6ab1b544f8ba4b3586a3963cb1d3a9c7",
            "value": 3
          }
        },
        "e79c3830a84a4acf84ae45cc85f0a7fb": {
          "model_module": "@jupyter-widgets/controls",
          "model_name": "HTMLModel",
          "model_module_version": "1.5.0",
          "state": {
            "_dom_classes": [],
            "_model_module": "@jupyter-widgets/controls",
            "_model_module_version": "1.5.0",
            "_model_name": "HTMLModel",
            "_view_count": null,
            "_view_module": "@jupyter-widgets/controls",
            "_view_module_version": "1.5.0",
            "_view_name": "HTMLView",
            "description": "",
            "description_tooltip": null,
            "layout": "IPY_MODEL_481c9fe2751448ad8e8f365c1024ca95",
            "placeholder": "​",
            "style": "IPY_MODEL_990f584104414574939b71b1668ef2f6",
            "value": " 3/40 [00:04&lt;00:49,  1.34s/it]"
          }
        },
        "897f60f424ca431fb482572bd4e080ba": {
          "model_module": "@jupyter-widgets/base",
          "model_name": "LayoutModel",
          "model_module_version": "1.2.0",
          "state": {
            "_model_module": "@jupyter-widgets/base",
            "_model_module_version": "1.2.0",
            "_model_name": "LayoutModel",
            "_view_count": null,
            "_view_module": "@jupyter-widgets/base",
            "_view_module_version": "1.2.0",
            "_view_name": "LayoutView",
            "align_content": null,
            "align_items": null,
            "align_self": null,
            "border": null,
            "bottom": null,
            "display": null,
            "flex": null,
            "flex_flow": null,
            "grid_area": null,
            "grid_auto_columns": null,
            "grid_auto_flow": null,
            "grid_auto_rows": null,
            "grid_column": null,
            "grid_gap": null,
            "grid_row": null,
            "grid_template_areas": null,
            "grid_template_columns": null,
            "grid_template_rows": null,
            "height": null,
            "justify_content": null,
            "justify_items": null,
            "left": null,
            "margin": null,
            "max_height": null,
            "max_width": null,
            "min_height": null,
            "min_width": null,
            "object_fit": null,
            "object_position": null,
            "order": null,
            "overflow": null,
            "overflow_x": null,
            "overflow_y": null,
            "padding": null,
            "right": null,
            "top": null,
            "visibility": null,
            "width": null
          }
        },
        "f2460014402f481e851dc3a68f1ffea8": {
          "model_module": "@jupyter-widgets/base",
          "model_name": "LayoutModel",
          "model_module_version": "1.2.0",
          "state": {
            "_model_module": "@jupyter-widgets/base",
            "_model_module_version": "1.2.0",
            "_model_name": "LayoutModel",
            "_view_count": null,
            "_view_module": "@jupyter-widgets/base",
            "_view_module_version": "1.2.0",
            "_view_name": "LayoutView",
            "align_content": null,
            "align_items": null,
            "align_self": null,
            "border": null,
            "bottom": null,
            "display": null,
            "flex": null,
            "flex_flow": null,
            "grid_area": null,
            "grid_auto_columns": null,
            "grid_auto_flow": null,
            "grid_auto_rows": null,
            "grid_column": null,
            "grid_gap": null,
            "grid_row": null,
            "grid_template_areas": null,
            "grid_template_columns": null,
            "grid_template_rows": null,
            "height": null,
            "justify_content": null,
            "justify_items": null,
            "left": null,
            "margin": null,
            "max_height": null,
            "max_width": null,
            "min_height": null,
            "min_width": null,
            "object_fit": null,
            "object_position": null,
            "order": null,
            "overflow": null,
            "overflow_x": null,
            "overflow_y": null,
            "padding": null,
            "right": null,
            "top": null,
            "visibility": null,
            "width": null
          }
        },
        "40a7a20068534019b8db17867ff27a2b": {
          "model_module": "@jupyter-widgets/controls",
          "model_name": "DescriptionStyleModel",
          "model_module_version": "1.5.0",
          "state": {
            "_model_module": "@jupyter-widgets/controls",
            "_model_module_version": "1.5.0",
            "_model_name": "DescriptionStyleModel",
            "_view_count": null,
            "_view_module": "@jupyter-widgets/base",
            "_view_module_version": "1.2.0",
            "_view_name": "StyleView",
            "description_width": ""
          }
        },
        "83ff45d9264b4d30917857b7a5f8ace5": {
          "model_module": "@jupyter-widgets/base",
          "model_name": "LayoutModel",
          "model_module_version": "1.2.0",
          "state": {
            "_model_module": "@jupyter-widgets/base",
            "_model_module_version": "1.2.0",
            "_model_name": "LayoutModel",
            "_view_count": null,
            "_view_module": "@jupyter-widgets/base",
            "_view_module_version": "1.2.0",
            "_view_name": "LayoutView",
            "align_content": null,
            "align_items": null,
            "align_self": null,
            "border": null,
            "bottom": null,
            "display": null,
            "flex": null,
            "flex_flow": null,
            "grid_area": null,
            "grid_auto_columns": null,
            "grid_auto_flow": null,
            "grid_auto_rows": null,
            "grid_column": null,
            "grid_gap": null,
            "grid_row": null,
            "grid_template_areas": null,
            "grid_template_columns": null,
            "grid_template_rows": null,
            "height": null,
            "justify_content": null,
            "justify_items": null,
            "left": null,
            "margin": null,
            "max_height": null,
            "max_width": null,
            "min_height": null,
            "min_width": null,
            "object_fit": null,
            "object_position": null,
            "order": null,
            "overflow": null,
            "overflow_x": null,
            "overflow_y": null,
            "padding": null,
            "right": null,
            "top": null,
            "visibility": null,
            "width": null
          }
        },
        "6ab1b544f8ba4b3586a3963cb1d3a9c7": {
          "model_module": "@jupyter-widgets/controls",
          "model_name": "ProgressStyleModel",
          "model_module_version": "1.5.0",
          "state": {
            "_model_module": "@jupyter-widgets/controls",
            "_model_module_version": "1.5.0",
            "_model_name": "ProgressStyleModel",
            "_view_count": null,
            "_view_module": "@jupyter-widgets/base",
            "_view_module_version": "1.2.0",
            "_view_name": "StyleView",
            "bar_color": null,
            "description_width": ""
          }
        },
        "481c9fe2751448ad8e8f365c1024ca95": {
          "model_module": "@jupyter-widgets/base",
          "model_name": "LayoutModel",
          "model_module_version": "1.2.0",
          "state": {
            "_model_module": "@jupyter-widgets/base",
            "_model_module_version": "1.2.0",
            "_model_name": "LayoutModel",
            "_view_count": null,
            "_view_module": "@jupyter-widgets/base",
            "_view_module_version": "1.2.0",
            "_view_name": "LayoutView",
            "align_content": null,
            "align_items": null,
            "align_self": null,
            "border": null,
            "bottom": null,
            "display": null,
            "flex": null,
            "flex_flow": null,
            "grid_area": null,
            "grid_auto_columns": null,
            "grid_auto_flow": null,
            "grid_auto_rows": null,
            "grid_column": null,
            "grid_gap": null,
            "grid_row": null,
            "grid_template_areas": null,
            "grid_template_columns": null,
            "grid_template_rows": null,
            "height": null,
            "justify_content": null,
            "justify_items": null,
            "left": null,
            "margin": null,
            "max_height": null,
            "max_width": null,
            "min_height": null,
            "min_width": null,
            "object_fit": null,
            "object_position": null,
            "order": null,
            "overflow": null,
            "overflow_x": null,
            "overflow_y": null,
            "padding": null,
            "right": null,
            "top": null,
            "visibility": null,
            "width": null
          }
        },
        "990f584104414574939b71b1668ef2f6": {
          "model_module": "@jupyter-widgets/controls",
          "model_name": "DescriptionStyleModel",
          "model_module_version": "1.5.0",
          "state": {
            "_model_module": "@jupyter-widgets/controls",
            "_model_module_version": "1.5.0",
            "_model_name": "DescriptionStyleModel",
            "_view_count": null,
            "_view_module": "@jupyter-widgets/base",
            "_view_module_version": "1.2.0",
            "_view_name": "StyleView",
            "description_width": ""
          }
        }
      }
    }
  },
  "nbformat": 4,
  "nbformat_minor": 0
}